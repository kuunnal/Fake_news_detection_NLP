{
 "cells": [
  {
   "cell_type": "markdown",
   "id": "0780b17c",
   "metadata": {},
   "source": [
    "# Problem Statement: Given a news article, determine whether it is fake or real.\n",
    "\n",
    "Fake news is a serious problem that can have a negative impact on society. It can mislead people, cause panic, and even lead to violence. Fake news detection is a challenging task, but it is important to develop effective methods to combat this problem."
   ]
  },
  {
   "cell_type": "markdown",
   "id": "9766f30f",
   "metadata": {},
   "source": [
    "# Fake News Detection"
   ]
  },
  {
   "cell_type": "markdown",
   "id": "f7e66b1e",
   "metadata": {},
   "source": [
    "# Read Dataset"
   ]
  },
  {
   "cell_type": "code",
   "execution_count": 1,
   "id": "5f7bee81",
   "metadata": {},
   "outputs": [
    {
     "data": {
      "text/html": [
       "<div>\n",
       "<style scoped>\n",
       "    .dataframe tbody tr th:only-of-type {\n",
       "        vertical-align: middle;\n",
       "    }\n",
       "\n",
       "    .dataframe tbody tr th {\n",
       "        vertical-align: top;\n",
       "    }\n",
       "\n",
       "    .dataframe thead th {\n",
       "        text-align: right;\n",
       "    }\n",
       "</style>\n",
       "<table border=\"1\" class=\"dataframe\">\n",
       "  <thead>\n",
       "    <tr style=\"text-align: right;\">\n",
       "      <th></th>\n",
       "      <th>id</th>\n",
       "      <th>title</th>\n",
       "      <th>author</th>\n",
       "      <th>text</th>\n",
       "      <th>label</th>\n",
       "    </tr>\n",
       "  </thead>\n",
       "  <tbody>\n",
       "    <tr>\n",
       "      <th>0</th>\n",
       "      <td>0</td>\n",
       "      <td>House Dem Aide: We Didn’t Even See Comey’s Let...</td>\n",
       "      <td>Darrell Lucus</td>\n",
       "      <td>House Dem Aide: We Didn’t Even See Comey’s Let...</td>\n",
       "      <td>1</td>\n",
       "    </tr>\n",
       "    <tr>\n",
       "      <th>1</th>\n",
       "      <td>1</td>\n",
       "      <td>FLYNN: Hillary Clinton, Big Woman on Campus - ...</td>\n",
       "      <td>Daniel J. Flynn</td>\n",
       "      <td>Ever get the feeling your life circles the rou...</td>\n",
       "      <td>0</td>\n",
       "    </tr>\n",
       "    <tr>\n",
       "      <th>2</th>\n",
       "      <td>2</td>\n",
       "      <td>Why the Truth Might Get You Fired</td>\n",
       "      <td>Consortiumnews.com</td>\n",
       "      <td>Why the Truth Might Get You Fired October 29, ...</td>\n",
       "      <td>1</td>\n",
       "    </tr>\n",
       "    <tr>\n",
       "      <th>3</th>\n",
       "      <td>3</td>\n",
       "      <td>15 Civilians Killed In Single US Airstrike Hav...</td>\n",
       "      <td>Jessica Purkiss</td>\n",
       "      <td>Videos 15 Civilians Killed In Single US Airstr...</td>\n",
       "      <td>1</td>\n",
       "    </tr>\n",
       "    <tr>\n",
       "      <th>4</th>\n",
       "      <td>4</td>\n",
       "      <td>Iranian woman jailed for fictional unpublished...</td>\n",
       "      <td>Howard Portnoy</td>\n",
       "      <td>Print \\nAn Iranian woman has been sentenced to...</td>\n",
       "      <td>1</td>\n",
       "    </tr>\n",
       "  </tbody>\n",
       "</table>\n",
       "</div>"
      ],
      "text/plain": [
       "   id                                              title              author  \\\n",
       "0   0  House Dem Aide: We Didn’t Even See Comey’s Let...       Darrell Lucus   \n",
       "1   1  FLYNN: Hillary Clinton, Big Woman on Campus - ...     Daniel J. Flynn   \n",
       "2   2                  Why the Truth Might Get You Fired  Consortiumnews.com   \n",
       "3   3  15 Civilians Killed In Single US Airstrike Hav...     Jessica Purkiss   \n",
       "4   4  Iranian woman jailed for fictional unpublished...      Howard Portnoy   \n",
       "\n",
       "                                                text  label  \n",
       "0  House Dem Aide: We Didn’t Even See Comey’s Let...      1  \n",
       "1  Ever get the feeling your life circles the rou...      0  \n",
       "2  Why the Truth Might Get You Fired October 29, ...      1  \n",
       "3  Videos 15 Civilians Killed In Single US Airstr...      1  \n",
       "4  Print \\nAn Iranian woman has been sentenced to...      1  "
      ]
     },
     "execution_count": 1,
     "metadata": {},
     "output_type": "execute_result"
    }
   ],
   "source": [
    "import pandas as pd\n",
    "df = pd.read_csv(r\"D:\\ETLHIVE DS Course\\Data Set\\fake_news_train.csv\")\n",
    "df.head()"
   ]
  },
  {
   "cell_type": "markdown",
   "id": "e5bcc764",
   "metadata": {},
   "source": [
    "# Cheack For Missing Data"
   ]
  },
  {
   "cell_type": "code",
   "execution_count": 2,
   "id": "b5e36892",
   "metadata": {},
   "outputs": [
    {
     "data": {
      "text/plain": [
       "id           0\n",
       "title      558\n",
       "author    1957\n",
       "text        39\n",
       "label        0\n",
       "dtype: int64"
      ]
     },
     "execution_count": 2,
     "metadata": {},
     "output_type": "execute_result"
    }
   ],
   "source": [
    "df.isna().sum()"
   ]
  },
  {
   "cell_type": "markdown",
   "id": "974ad5fc",
   "metadata": {},
   "source": [
    "# Replacing Missing Data With - \"Not Available\""
   ]
  },
  {
   "cell_type": "code",
   "execution_count": 3,
   "id": "17ba227e",
   "metadata": {},
   "outputs": [],
   "source": [
    "df = df.fillna('Not Available')"
   ]
  },
  {
   "cell_type": "markdown",
   "id": "ff1268a3",
   "metadata": {},
   "source": [
    "# Data Preprocessing"
   ]
  },
  {
   "cell_type": "code",
   "execution_count": 4,
   "id": "998df3cb",
   "metadata": {},
   "outputs": [
    {
     "data": {
      "text/plain": [
       "179"
      ]
     },
     "execution_count": 4,
     "metadata": {},
     "output_type": "execute_result"
    }
   ],
   "source": [
    "# importing Stopwords\n",
    "\n",
    "from nltk.corpus import stopwords\n",
    "sw = stopwords.words(\"english\")\n",
    "len(sw)"
   ]
  },
  {
   "cell_type": "code",
   "execution_count": 5,
   "id": "5d534b9a",
   "metadata": {},
   "outputs": [],
   "source": [
    "# Considering Lines without stopwords and removing unnecesssary punctuations\n",
    "import re\n",
    "lines = []\n",
    "for i in df.title:\n",
    "    words = \"\"\n",
    "    Q = i.lower()\n",
    "    Q = re.sub(\"[^a-z ]\",\"\",Q)\n",
    "    Q = Q.split(\" \")\n",
    "    #print(Q)\n",
    "    for j in Q:      \n",
    "        if(j not in sw):\n",
    "            words = words + \" \" + j\n",
    "    lines.append(words)\n",
    "    "
   ]
  },
  {
   "cell_type": "code",
   "execution_count": 6,
   "id": "ff1f95f1",
   "metadata": {},
   "outputs": [
    {
     "data": {
      "text/plain": [
       "[' house dem aide didnt even see comeys letter jason chaffetz tweeted',\n",
       " ' flynn hillary clinton big woman campus  breitbart',\n",
       " ' truth might get fired',\n",
       " '  civilians killed single us airstrike identified',\n",
       " ' iranian woman jailed fictional unpublished story woman stoned death adultery']"
      ]
     },
     "execution_count": 6,
     "metadata": {},
     "output_type": "execute_result"
    }
   ],
   "source": [
    "lines[0:5]"
   ]
  },
  {
   "cell_type": "code",
   "execution_count": 7,
   "id": "e29b5d96",
   "metadata": {},
   "outputs": [],
   "source": [
    "# TFIDF Vectorization of all lines\n",
    "\n",
    "from sklearn.feature_extraction.text import TfidfVectorizer\n",
    "ti = TfidfVectorizer()\n",
    "X = ti.fit_transform(pd.Series(lines)).toarray()\n",
    "Y = df.label"
   ]
  },
  {
   "cell_type": "code",
   "execution_count": 8,
   "id": "23fda3ac",
   "metadata": {},
   "outputs": [
    {
     "data": {
      "text/plain": [
       "(20800, 22870)"
      ]
     },
     "execution_count": 8,
     "metadata": {},
     "output_type": "execute_result"
    }
   ],
   "source": [
    "X.shape"
   ]
  },
  {
   "cell_type": "code",
   "execution_count": 9,
   "id": "eaafa933",
   "metadata": {},
   "outputs": [
    {
     "data": {
      "text/plain": [
       "(20800,)"
      ]
     },
     "execution_count": 9,
     "metadata": {},
     "output_type": "execute_result"
    }
   ],
   "source": [
    "Y.shape"
   ]
  },
  {
   "cell_type": "markdown",
   "id": "ca7fb959",
   "metadata": {},
   "source": [
    "# Train Test Split"
   ]
  },
  {
   "cell_type": "code",
   "execution_count": 10,
   "id": "668b09c7",
   "metadata": {},
   "outputs": [],
   "source": [
    "from sklearn.model_selection import train_test_split\n",
    "xtrain, xtest, ytrain, ytest =train_test_split(X,Y,test_size=0.2,random_state=21,stratify=Y)"
   ]
  },
  {
   "cell_type": "code",
   "execution_count": 11,
   "id": "8aeacfb3",
   "metadata": {},
   "outputs": [
    {
     "data": {
      "text/plain": [
       "(16640, 22870)"
      ]
     },
     "execution_count": 11,
     "metadata": {},
     "output_type": "execute_result"
    }
   ],
   "source": [
    "xtrain.shape"
   ]
  },
  {
   "cell_type": "code",
   "execution_count": 12,
   "id": "e99cd9a9",
   "metadata": {},
   "outputs": [
    {
     "data": {
      "text/plain": [
       "(4160, 22870)"
      ]
     },
     "execution_count": 12,
     "metadata": {},
     "output_type": "execute_result"
    }
   ],
   "source": [
    "xtest.shape"
   ]
  },
  {
   "cell_type": "code",
   "execution_count": 13,
   "id": "625f8a9c",
   "metadata": {},
   "outputs": [
    {
     "data": {
      "text/plain": [
       "(4160,)"
      ]
     },
     "execution_count": 13,
     "metadata": {},
     "output_type": "execute_result"
    }
   ],
   "source": [
    "ytest.shape"
   ]
  },
  {
   "cell_type": "markdown",
   "id": "5ee3f7f5",
   "metadata": {},
   "source": [
    "# Building A Nueral Network With Keras"
   ]
  },
  {
   "cell_type": "code",
   "execution_count": 14,
   "id": "9ea0aa2b",
   "metadata": {},
   "outputs": [
    {
     "name": "stdout",
     "output_type": "stream",
     "text": [
      "Epoch 1/5\n",
      "520/520 [==============================] - 77s 141ms/step - loss: 0.2382 - accuracy: 0.8981 - val_loss: 0.1746 - val_accuracy: 0.9308\n",
      "Epoch 2/5\n",
      "520/520 [==============================] - 71s 136ms/step - loss: 0.0619 - accuracy: 0.9791 - val_loss: 0.1978 - val_accuracy: 0.9274\n",
      "Epoch 3/5\n",
      "520/520 [==============================] - 63s 121ms/step - loss: 0.0132 - accuracy: 0.9955 - val_loss: 0.2709 - val_accuracy: 0.9233\n",
      "Epoch 4/5\n",
      "520/520 [==============================] - 61s 117ms/step - loss: 0.0019 - accuracy: 0.9994 - val_loss: 0.4974 - val_accuracy: 0.9272\n",
      "Epoch 5/5\n",
      "520/520 [==============================] - 64s 124ms/step - loss: 4.4280e-04 - accuracy: 0.9998 - val_loss: 0.5324 - val_accuracy: 0.9279\n"
     ]
    }
   ],
   "source": [
    "\n",
    "from keras.models import Sequential\n",
    "from keras.layers import Dense, Dropout\n",
    "\n",
    "nn = Sequential()\n",
    "nn.add(Dense(256,input_dim=X.shape[1],activation='relu'))\n",
    "nn.add(Dropout(0.3))\n",
    "nn.add(Dense(256,activation='relu'))\n",
    "nn.add(Dropout(0.3))\n",
    "nn.add(Dense(256,activation='relu'))\n",
    "nn.add(Dropout(0.3))\n",
    "nn.add(Dense(1,activation='sigmoid'))\n",
    "nn.compile(loss='binary_crossentropy',metrics='accuracy',optimizer='adam')\n",
    "model = nn.fit(xtrain,ytrain, validation_data=(xtest,ytest),epochs=5)"
   ]
  },
  {
   "cell_type": "code",
   "execution_count": 15,
   "id": "a027a78d",
   "metadata": {},
   "outputs": [
    {
     "data": {
      "image/png": "[encoded data removed]",
      "text/plain": [
       "<Figure size 640x480 with 1 Axes>"
      ]
     },
     "metadata": {},
     "output_type": "display_data"
    }
   ],
   "source": [
    "import matplotlib.pyplot as plt\n",
    "plt.plot(model.history[\"accuracy\"])\n",
    "plt.plot(model.history[\"val_accuracy\"])\n",
    "plt.show()"
   ]
  },
  {
   "cell_type": "markdown",
   "id": "bb3a0946",
   "metadata": {},
   "source": [
    "# Evaluate Model"
   ]
  },
  {
   "cell_type": "code",
   "execution_count": 16,
   "id": "19d0670c",
   "metadata": {},
   "outputs": [
    {
     "name": "stdout",
     "output_type": "stream",
     "text": [
      "520/520 [==============================] - 12s 19ms/step\n",
      "130/130 [==============================] - 3s 19ms/step\n"
     ]
    }
   ],
   "source": [
    "tr_pred = nn.predict(xtrain)\n",
    "ts_pred = nn.predict(xtest)"
   ]
  },
  {
   "cell_type": "code",
   "execution_count": 17,
   "id": "473e9227",
   "metadata": {},
   "outputs": [],
   "source": [
    "tr_pred1 = []\n",
    "\n",
    "for i in tr_pred:\n",
    "    if i>0.5:\n",
    "        tr_pred1.append(1)\n",
    "    else:\n",
    "        tr_pred1.append(0)"
   ]
  },
  {
   "cell_type": "code",
   "execution_count": 18,
   "id": "79cc99e0",
   "metadata": {},
   "outputs": [],
   "source": [
    "ts_pred1 = []\n",
    "\n",
    "for i in ts_pred:\n",
    "    if i>0.5:\n",
    "        ts_pred1.append(1)\n",
    "        \n",
    "    else:\n",
    "        ts_pred1.append(0)"
   ]
  },
  {
   "cell_type": "code",
   "execution_count": 19,
   "id": "2b51adcb",
   "metadata": {},
   "outputs": [
    {
     "name": "stdout",
     "output_type": "stream",
     "text": [
      "Training Accuracy of Model is :  1.0\n",
      "Testing Accuracy of Model is  :  0.9279\n"
     ]
    }
   ],
   "source": [
    "from sklearn.metrics import accuracy_score\n",
    "tr_acc = accuracy_score(ytrain,tr_pred1)\n",
    "ts_acc = accuracy_score(ytest,ts_pred1)\n",
    "print('Training Accuracy of Model is : ',round(tr_acc,4))\n",
    "print('Testing Accuracy of Model is  : ',round(ts_acc,4))"
   ]
  },
  {
   "cell_type": "markdown",
   "id": "8b3e2b1f",
   "metadata": {},
   "source": [
    "# Confusion Matrix For Testing Split"
   ]
  },
  {
   "cell_type": "code",
   "execution_count": 20,
   "id": "d00c0e49",
   "metadata": {},
   "outputs": [
    {
     "data": {
      "text/plain": [
       "<AxesSubplot:>"
      ]
     },
     "execution_count": 20,
     "metadata": {},
     "output_type": "execute_result"
    },
    {
     "data": {
      "image/png": "[encoded data removed]",
      "text/plain": [
       "<Figure size 640x480 with 2 Axes>"
      ]
     },
     "metadata": {},
     "output_type": "display_data"
    }
   ],
   "source": [
    "from sklearn.metrics import confusion_matrix\n",
    "cf = confusion_matrix(ytest,ts_pred1)\n",
    "import seaborn as sb\n",
    "sb.heatmap(cf,annot=True)"
   ]
  },
  {
   "cell_type": "markdown",
   "id": "5779b121",
   "metadata": {},
   "source": [
    "# Classification Report"
   ]
  },
  {
   "cell_type": "code",
   "execution_count": 21,
   "id": "fef8fdc3",
   "metadata": {},
   "outputs": [
    {
     "name": "stdout",
     "output_type": "stream",
     "text": [
      "              precision    recall  f1-score   support\n",
      "\n",
      "           0       0.94      0.92      0.93      2077\n",
      "           1       0.92      0.94      0.93      2083\n",
      "\n",
      "    accuracy                           0.93      4160\n",
      "   macro avg       0.93      0.93      0.93      4160\n",
      "weighted avg       0.93      0.93      0.93      4160\n",
      "\n"
     ]
    }
   ],
   "source": [
    "from sklearn.metrics import classification_report\n",
    "cr = classification_report(ytest,ts_pred1)\n",
    "print(cr)"
   ]
  },
  {
   "cell_type": "markdown",
   "id": "026098bf",
   "metadata": {},
   "source": [
    "# Predicting with fake news with test.csv file"
   ]
  },
  {
   "cell_type": "code",
   "execution_count": 22,
   "id": "35ebe881",
   "metadata": {},
   "outputs": [
    {
     "data": {
      "text/html": [
       "<div>\n",
       "<style scoped>\n",
       "    .dataframe tbody tr th:only-of-type {\n",
       "        vertical-align: middle;\n",
       "    }\n",
       "\n",
       "    .dataframe tbody tr th {\n",
       "        vertical-align: top;\n",
       "    }\n",
       "\n",
       "    .dataframe thead th {\n",
       "        text-align: right;\n",
       "    }\n",
       "</style>\n",
       "<table border=\"1\" class=\"dataframe\">\n",
       "  <thead>\n",
       "    <tr style=\"text-align: right;\">\n",
       "      <th></th>\n",
       "      <th>id</th>\n",
       "      <th>title</th>\n",
       "      <th>author</th>\n",
       "      <th>text</th>\n",
       "    </tr>\n",
       "  </thead>\n",
       "  <tbody>\n",
       "    <tr>\n",
       "      <th>0</th>\n",
       "      <td>20800</td>\n",
       "      <td>Specter of Trump Loosens Tongues, if Not Purse...</td>\n",
       "      <td>David Streitfeld</td>\n",
       "      <td>PALO ALTO, Calif.  —   After years of scorning...</td>\n",
       "    </tr>\n",
       "    <tr>\n",
       "      <th>1</th>\n",
       "      <td>20801</td>\n",
       "      <td>Russian warships ready to strike terrorists ne...</td>\n",
       "      <td>NaN</td>\n",
       "      <td>Russian warships ready to strike terrorists ne...</td>\n",
       "    </tr>\n",
       "    <tr>\n",
       "      <th>2</th>\n",
       "      <td>20802</td>\n",
       "      <td>#NoDAPL: Native American Leaders Vow to Stay A...</td>\n",
       "      <td>Common Dreams</td>\n",
       "      <td>Videos #NoDAPL: Native American Leaders Vow to...</td>\n",
       "    </tr>\n",
       "    <tr>\n",
       "      <th>3</th>\n",
       "      <td>20803</td>\n",
       "      <td>Tim Tebow Will Attempt Another Comeback, This ...</td>\n",
       "      <td>Daniel Victor</td>\n",
       "      <td>If at first you don’t succeed, try a different...</td>\n",
       "    </tr>\n",
       "    <tr>\n",
       "      <th>4</th>\n",
       "      <td>20804</td>\n",
       "      <td>Keiser Report: Meme Wars (E995)</td>\n",
       "      <td>Truth Broadcast Network</td>\n",
       "      <td>42 mins ago 1 Views 0 Comments 0 Likes 'For th...</td>\n",
       "    </tr>\n",
       "  </tbody>\n",
       "</table>\n",
       "</div>"
      ],
      "text/plain": [
       "      id                                              title  \\\n",
       "0  20800  Specter of Trump Loosens Tongues, if Not Purse...   \n",
       "1  20801  Russian warships ready to strike terrorists ne...   \n",
       "2  20802  #NoDAPL: Native American Leaders Vow to Stay A...   \n",
       "3  20803  Tim Tebow Will Attempt Another Comeback, This ...   \n",
       "4  20804                    Keiser Report: Meme Wars (E995)   \n",
       "\n",
       "                    author                                               text  \n",
       "0         David Streitfeld  PALO ALTO, Calif.  —   After years of scorning...  \n",
       "1                      NaN  Russian warships ready to strike terrorists ne...  \n",
       "2            Common Dreams  Videos #NoDAPL: Native American Leaders Vow to...  \n",
       "3            Daniel Victor  If at first you don’t succeed, try a different...  \n",
       "4  Truth Broadcast Network  42 mins ago 1 Views 0 Comments 0 Likes 'For th...  "
      ]
     },
     "execution_count": 22,
     "metadata": {},
     "output_type": "execute_result"
    }
   ],
   "source": [
    "df_test = pd.read_csv(r\"D:\\ETLHIVE DS Course\\Data Set\\fake_news_test.csv\")\n",
    "df_test.head()"
   ]
  },
  {
   "cell_type": "markdown",
   "id": "a6ffb97f",
   "metadata": {},
   "source": [
    "# Data Preprocessing for df_test"
   ]
  },
  {
   "cell_type": "code",
   "execution_count": 23,
   "id": "cafa6d19",
   "metadata": {},
   "outputs": [
    {
     "data": {
      "text/plain": [
       "id          0\n",
       "title     122\n",
       "author    503\n",
       "text        7\n",
       "dtype: int64"
      ]
     },
     "execution_count": 23,
     "metadata": {},
     "output_type": "execute_result"
    }
   ],
   "source": [
    "\n",
    "df_test.isna().sum()"
   ]
  },
  {
   "cell_type": "code",
   "execution_count": 24,
   "id": "17312527",
   "metadata": {},
   "outputs": [],
   "source": [
    "df_test = df_test.fillna('Not Available')"
   ]
  },
  {
   "cell_type": "code",
   "execution_count": 25,
   "id": "d615bbe3",
   "metadata": {},
   "outputs": [],
   "source": [
    "\n",
    "import re\n",
    "lines_test = []\n",
    "for i in df_test.title:\n",
    "    words = \"\"\n",
    "    Q = i.lower()\n",
    "    Q = re.sub(\"[^a-z ]\",\"\",Q)\n",
    "    Q = Q.split(\" \")\n",
    "    #print(Q)\n",
    "    for j in Q:      \n",
    "        if(j not in sw):\n",
    "            words = words + \" \" + j\n",
    "    lines_test.append(words)"
   ]
  },
  {
   "cell_type": "code",
   "execution_count": 26,
   "id": "bc0464b0",
   "metadata": {},
   "outputs": [],
   "source": [
    "X_test = ti.transform(pd.Series(lines_test)).toarray()"
   ]
  },
  {
   "cell_type": "code",
   "execution_count": 27,
   "id": "f557f92d",
   "metadata": {},
   "outputs": [
    {
     "data": {
      "text/plain": [
       "array([[0., 0., 0., ..., 0., 0., 0.],\n",
       "       [0., 0., 0., ..., 0., 0., 0.],\n",
       "       [0., 0., 0., ..., 0., 0., 0.],\n",
       "       ...,\n",
       "       [0., 0., 0., ..., 0., 0., 0.],\n",
       "       [0., 0., 0., ..., 0., 0., 0.],\n",
       "       [0., 0., 0., ..., 0., 0., 0.]])"
      ]
     },
     "execution_count": 27,
     "metadata": {},
     "output_type": "execute_result"
    }
   ],
   "source": [
    "\n",
    "X_test"
   ]
  },
  {
   "cell_type": "code",
   "execution_count": 28,
   "id": "7be0be8a",
   "metadata": {},
   "outputs": [
    {
     "data": {
      "text/plain": [
       "(5200, 22870)"
      ]
     },
     "execution_count": 28,
     "metadata": {},
     "output_type": "execute_result"
    }
   ],
   "source": [
    "X_test.shape"
   ]
  },
  {
   "cell_type": "markdown",
   "id": "5a350bf0",
   "metadata": {},
   "source": [
    "# Predictions"
   ]
  },
  {
   "cell_type": "code",
   "execution_count": 29,
   "id": "cbe175ee",
   "metadata": {},
   "outputs": [
    {
     "name": "stdout",
     "output_type": "stream",
     "text": [
      "163/163 [==============================] - 4s 23ms/step\n"
     ]
    }
   ],
   "source": [
    "test_pred = nn.predict(X_test)"
   ]
  },
  {
   "cell_type": "code",
   "execution_count": 30,
   "id": "b4ac0e26",
   "metadata": {},
   "outputs": [],
   "source": [
    "\n",
    "test_pred1 = []\n",
    "for i in test_pred:\n",
    "    if i>0.5:\n",
    "        test_pred1.append(1)\n",
    "    else:\n",
    "        test_pred1.append(0)"
   ]
  },
  {
   "cell_type": "markdown",
   "id": "f796cedf",
   "metadata": {},
   "source": [
    "# Creating DataFrame with above test predictions"
   ]
  },
  {
   "cell_type": "code",
   "execution_count": 31,
   "id": "04ab4400",
   "metadata": {},
   "outputs": [],
   "source": [
    "idx = list(df_test['id'])\n",
    "df_out = pd.DataFrame({'id':idx, 'label':test_pred1})"
   ]
  },
  {
   "cell_type": "code",
   "execution_count": 32,
   "id": "1cec5dec",
   "metadata": {},
   "outputs": [
    {
     "data": {
      "text/html": [
       "<div>\n",
       "<style scoped>\n",
       "    .dataframe tbody tr th:only-of-type {\n",
       "        vertical-align: middle;\n",
       "    }\n",
       "\n",
       "    .dataframe tbody tr th {\n",
       "        vertical-align: top;\n",
       "    }\n",
       "\n",
       "    .dataframe thead th {\n",
       "        text-align: right;\n",
       "    }\n",
       "</style>\n",
       "<table border=\"1\" class=\"dataframe\">\n",
       "  <thead>\n",
       "    <tr style=\"text-align: right;\">\n",
       "      <th></th>\n",
       "      <th>id</th>\n",
       "      <th>label</th>\n",
       "    </tr>\n",
       "  </thead>\n",
       "  <tbody>\n",
       "    <tr>\n",
       "      <th>0</th>\n",
       "      <td>20800</td>\n",
       "      <td>0</td>\n",
       "    </tr>\n",
       "    <tr>\n",
       "      <th>1</th>\n",
       "      <td>20801</td>\n",
       "      <td>1</td>\n",
       "    </tr>\n",
       "    <tr>\n",
       "      <th>2</th>\n",
       "      <td>20802</td>\n",
       "      <td>0</td>\n",
       "    </tr>\n",
       "    <tr>\n",
       "      <th>3</th>\n",
       "      <td>20803</td>\n",
       "      <td>0</td>\n",
       "    </tr>\n",
       "    <tr>\n",
       "      <th>4</th>\n",
       "      <td>20804</td>\n",
       "      <td>1</td>\n",
       "    </tr>\n",
       "  </tbody>\n",
       "</table>\n",
       "</div>"
      ],
      "text/plain": [
       "      id  label\n",
       "0  20800      0\n",
       "1  20801      1\n",
       "2  20802      0\n",
       "3  20803      0\n",
       "4  20804      1"
      ]
     },
     "execution_count": 32,
     "metadata": {},
     "output_type": "execute_result"
    }
   ],
   "source": [
    "df_out.head()"
   ]
  },
  {
   "cell_type": "code",
   "execution_count": 33,
   "id": "ff55e884",
   "metadata": {},
   "outputs": [
    {
     "data": {
      "text/html": [
       "<div>\n",
       "<style scoped>\n",
       "    .dataframe tbody tr th:only-of-type {\n",
       "        vertical-align: middle;\n",
       "    }\n",
       "\n",
       "    .dataframe tbody tr th {\n",
       "        vertical-align: top;\n",
       "    }\n",
       "\n",
       "    .dataframe thead th {\n",
       "        text-align: right;\n",
       "    }\n",
       "</style>\n",
       "<table border=\"1\" class=\"dataframe\">\n",
       "  <thead>\n",
       "    <tr style=\"text-align: right;\">\n",
       "      <th></th>\n",
       "      <th>id</th>\n",
       "    </tr>\n",
       "    <tr>\n",
       "      <th>label</th>\n",
       "      <th></th>\n",
       "    </tr>\n",
       "  </thead>\n",
       "  <tbody>\n",
       "    <tr>\n",
       "      <th>0</th>\n",
       "      <td>2550</td>\n",
       "    </tr>\n",
       "    <tr>\n",
       "      <th>1</th>\n",
       "      <td>2650</td>\n",
       "    </tr>\n",
       "  </tbody>\n",
       "</table>\n",
       "</div>"
      ],
      "text/plain": [
       "         id\n",
       "label      \n",
       "0      2550\n",
       "1      2650"
      ]
     },
     "execution_count": 33,
     "metadata": {},
     "output_type": "execute_result"
    }
   ],
   "source": [
    "\n",
    "df_out.groupby(by='label').count()"
   ]
  },
  {
   "cell_type": "code",
   "execution_count": 34,
   "id": "c7c25305",
   "metadata": {},
   "outputs": [
    {
     "data": {
      "text/plain": [
       "<AxesSubplot:xlabel='label'>"
      ]
     },
     "execution_count": 34,
     "metadata": {},
     "output_type": "execute_result"
    },
    {
     "data": {
      "image/png": "[encoded data removed]",
      "text/plain": [
       "<Figure size 640x480 with 1 Axes>"
      ]
     },
     "metadata": {},
     "output_type": "display_data"
    }
   ],
   "source": [
    "df_out.groupby(by='label').count().plot(kind='bar')"
   ]
  },
  {
   "cell_type": "code",
   "execution_count": 1,
   "id": "36b76cb5",
   "metadata": {},
   "outputs": [],
   "source": [
    "##########################"
   ]
  }
 ],
 "metadata": {
  "kernelspec": {
   "display_name": "Python 3 (ipykernel)",
   "language": "python",
   "name": "python3"
  },
  "language_info": {
   "codemirror_mode": {
    "name": "ipython",
    "version": 3
   },
   "file_extension": ".py",
   "mimetype": "text/x-python",
   "name": "python",
   "nbconvert_exporter": "python",
   "pygments_lexer": "ipython3",
   "version": "3.9.13"
  }
 },
 "nbformat": 4,
 "nbformat_minor": 5
}
